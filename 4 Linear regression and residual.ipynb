{
 "cells": [
  {
   "cell_type": "markdown",
   "metadata": {},
   "source": [
    "# Time Series on Financial Applications  \n",
    "### Section 4: Linear regression and residual"
   ]
  },
  {
   "cell_type": "markdown",
   "metadata": {},
   "source": [
    "(a) Load data2.csv. There are two variables, i.e., ln_gdp and ln_export. Define y = ln_gdp and x = ln_export."
   ]
  },
  {
   "cell_type": "markdown",
   "metadata": {},
   "source": [
    "(b) Take the first difference of $y_t$ and $x_t$ as $\\Delta y_{t}$ and $\\Delta x_{t}$. "
   ]
  },
  {
   "cell_type": "markdown",
   "metadata": {},
   "source": [
    "(c) Run the following linear regression: $$\\Delta y_{t} = \\beta_{0}+\\beta_{1}\\Delta x_{t}+ u_{t}$$  \n",
    "where $u_{t}$ is the error term. What is the estimated value of $\\beta_{1}$?"
   ]
  },
  {
   "cell_type": "markdown",
   "metadata": {},
   "source": [
    "(d) Plot residual $\\hat u_{t}$."
   ]
  },
  {
   "cell_type": "markdown",
   "metadata": {},
   "source": [
    "(e) Run the following linear regression: $$\\Delta y_{t} = \\beta_{0}+\\beta_{1}\\Delta x_{t}+ \\beta_{2}\\Delta x_{t-1}+u_{t}$$\n",
    "\n",
    "where $u_{t}$ is the error term. What is the estimated value of $\\beta_{1}$? Does it become larger or smaller as compared with (c)?"
   ]
  },
  {
   "cell_type": "markdown",
   "metadata": {},
   "source": [
    "## Solutions"
   ]
  },
  {
   "cell_type": "code",
   "execution_count": 1,
   "metadata": {},
   "outputs": [],
   "source": [
    "# load the libraries\n",
    "\n",
    "import numpy as np\n",
    "import pandas as pd\n",
    "import matplotlib.pyplot as plt\n",
    "import statsmodels.tsa.api as smt\n",
    "import statsmodels.api as sm\n",
    "import warnings\n",
    "warnings.filterwarnings('ignore')\n",
    "warnings.simplefilter('ignore')\n",
    "\n",
    "from statsmodels.graphics.tsaplots import plot_acf, plot_pacf \n",
    "from statsmodels.tsa.stattools import acf, pacf, adfuller\n",
    "from statsmodels.tsa.arima_model import ARIMA"
   ]
  },
  {
   "cell_type": "markdown",
   "metadata": {},
   "source": [
    "(a)"
   ]
  },
  {
   "cell_type": "code",
   "execution_count": 2,
   "metadata": {},
   "outputs": [],
   "source": [
    "df = pd.read_csv('data2.csv')\n",
    "n = len(df)\n",
    "y = df['ln_gdp']\n",
    "x = df['ln_export']"
   ]
  },
  {
   "cell_type": "markdown",
   "metadata": {},
   "source": [
    "(b)"
   ]
  },
  {
   "cell_type": "code",
   "execution_count": 3,
   "metadata": {},
   "outputs": [],
   "source": [
    "y_diff = y.diff(1)  # take the first difference \n",
    "x_diff = x.diff(1)"
   ]
  },
  {
   "cell_type": "markdown",
   "metadata": {},
   "source": [
    "(c)"
   ]
  },
  {
   "cell_type": "code",
   "execution_count": 4,
   "metadata": {},
   "outputs": [
    {
     "name": "stdout",
     "output_type": "stream",
     "text": [
      "                            OLS Regression Results                            \n",
      "==============================================================================\n",
      "Dep. Variable:                 ln_gdp   R-squared:                       0.059\n",
      "Model:                            OLS   Adj. R-squared:                  0.023\n",
      "Method:                 Least Squares   F-statistic:                     1.639\n",
      "Date:                Thu, 24 Nov 2022   Prob (F-statistic):              0.212\n",
      "Time:                        23:45:06   Log-Likelihood:                -22.352\n",
      "No. Observations:                  28   AIC:                             48.70\n",
      "Df Residuals:                      26   BIC:                             51.37\n",
      "Df Model:                           1                                         \n",
      "Covariance Type:            nonrobust                                         \n",
      "==============================================================================\n",
      "                 coef    std err          t      P>|t|      [0.025      0.975]\n",
      "------------------------------------------------------------------------------\n",
      "const         -0.0335      0.106     -0.317      0.754      -0.251       0.184\n",
      "ln_export      0.0727      0.057      1.280      0.212      -0.044       0.189\n",
      "==============================================================================\n",
      "Omnibus:                        0.659   Durbin-Watson:                   2.953\n",
      "Prob(Omnibus):                  0.719   Jarque-Bera (JB):                0.096\n",
      "Skew:                           0.108   Prob(JB):                        0.953\n",
      "Kurtosis:                       3.187   Cond. No.                         1.87\n",
      "==============================================================================\n",
      "\n",
      "Notes:\n",
      "[1] Standard Errors assume that the covariance matrix of the errors is correctly specified.\n"
     ]
    }
   ],
   "source": [
    "X = x_diff  # X is a matrix of independent variables\n",
    "X = sm.add_constant(X) # adding a constant\n",
    "Y = y_diff         # y is a vector of dependent variable\n",
    "X = X[1:n]    # start from the 2nd observations\n",
    "Y = Y[1:n]   # start from the 2nd observations\n",
    "\n",
    "\n",
    "model = sm.OLS(Y, X)\n",
    "results = model.fit()\n",
    "print(results.summary())"
   ]
  },
  {
   "cell_type": "markdown",
   "metadata": {},
   "source": [
    "$\\beta_1$ is 0.0727"
   ]
  },
  {
   "cell_type": "markdown",
   "metadata": {},
   "source": [
    "(d)"
   ]
  },
  {
   "cell_type": "code",
   "execution_count": 5,
   "metadata": {},
   "outputs": [
    {
     "data": {
      "image/png": "[encoded data removed]",
      "text/plain": [
       "<Figure size 864x288 with 1 Axes>"
      ]
     },
     "metadata": {
      "needs_background": "light"
     },
     "output_type": "display_data"
    }
   ],
   "source": [
    "u = results.resid # residuals\n",
    "plt.figure(figsize=(12,4))\n",
    "plt.title(\"Residuals\")\n",
    "plt.plot(u)\n",
    "plt.grid(True)\n",
    "plt.show()"
   ]
  },
  {
   "cell_type": "markdown",
   "metadata": {},
   "source": [
    "(e)"
   ]
  },
  {
   "cell_type": "code",
   "execution_count": 6,
   "metadata": {},
   "outputs": [
    {
     "name": "stdout",
     "output_type": "stream",
     "text": [
      "                            OLS Regression Results                            \n",
      "==============================================================================\n",
      "Dep. Variable:                 ln_gdp   R-squared:                       0.055\n",
      "Model:                            OLS   Adj. R-squared:                 -0.024\n",
      "Method:                 Least Squares   F-statistic:                    0.6964\n",
      "Date:                Thu, 24 Nov 2022   Prob (F-statistic):              0.508\n",
      "Time:                        23:45:07   Log-Likelihood:                -21.893\n",
      "No. Observations:                  27   AIC:                             49.79\n",
      "Df Residuals:                      24   BIC:                             53.67\n",
      "Df Model:                           2                                         \n",
      "Covariance Type:            nonrobust                                         \n",
      "==============================================================================\n",
      "                 coef    std err          t      P>|t|      [0.025      0.975]\n",
      "------------------------------------------------------------------------------\n",
      "const         -0.0233      0.112     -0.209      0.837      -0.254       0.207\n",
      "ln_export      0.0685      0.067      1.022      0.317      -0.070       0.207\n",
      "ln_export     -0.0024      0.067     -0.036      0.972      -0.141       0.136\n",
      "==============================================================================\n",
      "Omnibus:                        0.527   Durbin-Watson:                   2.957\n",
      "Prob(Omnibus):                  0.768   Jarque-Bera (JB):                0.030\n",
      "Skew:                           0.037   Prob(JB):                        0.985\n",
      "Kurtosis:                       3.146   Cond. No.                         2.31\n",
      "==============================================================================\n",
      "\n",
      "Notes:\n",
      "[1] Standard Errors assume that the covariance matrix of the errors is correctly specified.\n"
     ]
    }
   ],
   "source": [
    "lag_x = x.shift(1)  # lag of x\n",
    "lag_x_diff = lag_x.diff(1) # first difference of lag of x\n",
    "X = pd.concat([x_diff, lag_x_diff], axis=1) # put two variables into a matrix X\n",
    "\n",
    "X = sm.add_constant(X) # adding a constant\n",
    "Y = y_diff         # y is a vector of dependent variable\n",
    "X = X[2:n]    # start from 3rd observations\n",
    "Y = Y[2:n]   # start from 3rd observations\n",
    "\n",
    "model = sm.OLS(Y, X)\n",
    "results = model.fit()\n",
    "print(results.summary())"
   ]
  },
  {
   "cell_type": "markdown",
   "metadata": {},
   "source": [
    "$\\beta_{1}$ is 0.0685 and becomes smaller."
   ]
  }
 ],
 "metadata": {
  "kernelspec": {
   "display_name": "Python 3",
   "language": "python",
   "name": "python3"
  },
  "language_info": {
   "codemirror_mode": {
    "name": "ipython",
    "version": 3
   },
   "file_extension": ".py",
   "mimetype": "text/x-python",
   "name": "python",
   "nbconvert_exporter": "python",
   "pygments_lexer": "ipython3",
   "version": "3.8.5"
  }
 },
 "nbformat": 4,
 "nbformat_minor": 2
}
