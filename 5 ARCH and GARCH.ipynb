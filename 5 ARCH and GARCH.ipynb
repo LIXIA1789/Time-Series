{
 "cells": [
  {
   "cell_type": "markdown",
   "metadata": {},
   "source": [
    "# Time Series on Financial Applications  \n",
    "### Section 5: ARCH and GARCH"
   ]
  },
  {
   "cell_type": "markdown",
   "metadata": {},
   "source": [
    "(a) Load data2.csv. There are two variables, i.e., ln_gdp and ln_export. Define y = ln_gdp. "
   ]
  },
  {
   "cell_type": "markdown",
   "metadata": {},
   "source": [
    "(b) Estimate AR(1)-ARCH(2) using $y_{t}$. Compute 10-step-ahead forecasted values."
   ]
  },
  {
   "cell_type": "markdown",
   "metadata": {},
   "source": [
    "(c) Estimate AR(2)-GARCH(2,1) using $y_{t}$. Compute 10-step-ahead forecasted values."
   ]
  },
  {
   "cell_type": "markdown",
   "metadata": {},
   "source": [
    "## Solutions"
   ]
  },
  {
   "cell_type": "code",
   "execution_count": 1,
   "metadata": {},
   "outputs": [],
   "source": [
    "# load the libraries\n",
    "\n",
    "import numpy as np\n",
    "import pandas as pd\n",
    "import matplotlib.pyplot as plt\n",
    "import statsmodels.tsa.api as smt\n",
    "import statsmodels.api as sm\n",
    "import warnings \n",
    "warnings.filterwarnings('ignore')\n",
    "warnings.simplefilter('ignore')\n",
    "\n",
    "from arch import arch_model"
   ]
  },
  {
   "cell_type": "markdown",
   "metadata": {},
   "source": [
    "(a)"
   ]
  },
  {
   "cell_type": "code",
   "execution_count": 2,
   "metadata": {},
   "outputs": [],
   "source": [
    "df = pd.read_csv('data2.csv')\n",
    "n = len(df)\n",
    "y = df['ln_gdp']"
   ]
  },
  {
   "cell_type": "markdown",
   "metadata": {},
   "source": [
    "(b)"
   ]
  },
  {
   "cell_type": "code",
   "execution_count": 3,
   "metadata": {},
   "outputs": [
    {
     "name": "stdout",
     "output_type": "stream",
     "text": [
      "Iteration:      1,   Func. Count:      7,   Neg. LLF: 589752.7021841368\n",
      "Iteration:      2,   Func. Count:     18,   Neg. LLF: 46.07617853768971\n",
      "Iteration:      3,   Func. Count:     28,   Neg. LLF: 62.543652735093076\n",
      "Iteration:      4,   Func. Count:     35,   Neg. LLF: 113.84508405894154\n",
      "Iteration:      5,   Func. Count:     42,   Neg. LLF: 333.1040209503039\n",
      "Iteration:      6,   Func. Count:     49,   Neg. LLF: 4327.5901078675315\n",
      "Iteration:      7,   Func. Count:     56,   Neg. LLF: 155.97633054230567\n",
      "Iteration:      8,   Func. Count:     63,   Neg. LLF: 30.301524157965396\n",
      "Iteration:      9,   Func. Count:     70,   Neg. LLF: 30.22574133926524\n",
      "Iteration:     10,   Func. Count:     77,   Neg. LLF: 14.734200329901157\n",
      "Iteration:     11,   Func. Count:     83,   Neg. LLF: 16.094083893713126\n",
      "Iteration:     12,   Func. Count:     90,   Neg. LLF: 14.43700713915915\n",
      "Iteration:     13,   Func. Count:     96,   Neg. LLF: 14.450668215701882\n",
      "Iteration:     14,   Func. Count:    103,   Neg. LLF: 14.42257463728722\n",
      "Iteration:     15,   Func. Count:    109,   Neg. LLF: 14.420263725573493\n",
      "Iteration:     16,   Func. Count:    115,   Neg. LLF: 14.419982527698313\n",
      "Iteration:     17,   Func. Count:    121,   Neg. LLF: 14.41996625740888\n",
      "Iteration:     18,   Func. Count:    127,   Neg. LLF: 14.419965507353611\n",
      "Optimization terminated successfully    (Exit mode 0)\n",
      "            Current function value: 14.419965507353611\n",
      "            Iterations: 18\n",
      "            Function evaluations: 127\n",
      "            Gradient evaluations: 18\n",
      "                           AR - ARCH Model Results                            \n",
      "==============================================================================\n",
      "Dep. Variable:                 ln_gdp   R-squared:                       0.182\n",
      "Mean Model:                        AR   Adj. R-squared:                  0.151\n",
      "Vol Model:                       ARCH   Log-Likelihood:               -14.4200\n",
      "Distribution:                  Normal   AIC:                           38.8399\n",
      "Method:            Maximum Likelihood   BIC:                           45.5010\n",
      "                                        No. Observations:                   28\n",
      "Date:                Thu, Nov 24 2022   Df Residuals:                       26\n",
      "Time:                        23:48:13   Df Model:                            2\n",
      "                               Mean Model                               \n",
      "========================================================================\n",
      "                 coef    std err          t      P>|t|  95.0% Conf. Int.\n",
      "------------------------------------------------------------------------\n",
      "Const          5.9735      1.458      4.096  4.209e-05 [  3.115,  8.832]\n",
      "ln_gdp[1]      0.4059      0.145      2.807  4.994e-03 [  0.123,  0.689]\n",
      "                              Volatility Model                             \n",
      "===========================================================================\n",
      "                 coef    std err          t      P>|t|     95.0% Conf. Int.\n",
      "---------------------------------------------------------------------------\n",
      "omega          0.0687  3.804e-02      1.805  7.103e-02 [-5.884e-03,  0.143]\n",
      "alpha[1]       0.0389  4.650e-02      0.836      0.403 [-5.228e-02,  0.130]\n",
      "alpha[2]       0.9589      0.615      1.560      0.119    [ -0.246,  2.164]\n",
      "===========================================================================\n",
      "\n",
      "Covariance estimator: robust\n"
     ]
    }
   ],
   "source": [
    "model = arch_model(y, mean='AR',lags=1, vol='GARCH', p=2, q=0)\n",
    "model_fit = model.fit()\n",
    "print(model_fit.summary())"
   ]
  },
  {
   "cell_type": "code",
   "execution_count": 4,
   "metadata": {},
   "outputs": [
    {
     "data": {
      "text/plain": [
       "array([ 9.70882033,  9.91418018,  9.99753289, 10.03136461, 10.04509643,\n",
       "       10.05066998, 10.05293221, 10.05385042, 10.05422311, 10.05437438])"
      ]
     },
     "execution_count": 4,
     "metadata": {},
     "output_type": "execute_result"
    }
   ],
   "source": [
    "m = 10\n",
    "model_fit_forecast = model_fit.forecast(horizon=m)\n",
    "forecasted_values = model_fit_forecast.mean.values[-1, :]\n",
    "forecasted_values"
   ]
  },
  {
   "cell_type": "markdown",
   "metadata": {},
   "source": [
    "(c)"
   ]
  },
  {
   "cell_type": "code",
   "execution_count": 5,
   "metadata": {},
   "outputs": [
    {
     "name": "stdout",
     "output_type": "stream",
     "text": [
      "Iteration:      1,   Func. Count:      9,   Neg. LLF: 2624087.8782859854\n",
      "Iteration:      2,   Func. Count:     22,   Neg. LLF: 62.93372116438709\n",
      "Iteration:      3,   Func. Count:     35,   Neg. LLF: 58.12292193962874\n",
      "Iteration:      4,   Func. Count:     44,   Neg. LLF: 19.113678992185804\n",
      "Iteration:      5,   Func. Count:     53,   Neg. LLF: 13.26232666390731\n",
      "Iteration:      6,   Func. Count:     61,   Neg. LLF: 20.449751931686613\n",
      "Iteration:      7,   Func. Count:     70,   Neg. LLF: 13.17274947166917\n",
      "Iteration:      8,   Func. Count:     79,   Neg. LLF: 12.959836648242813\n",
      "Iteration:      9,   Func. Count:     87,   Neg. LLF: 12.895321716839453\n",
      "Iteration:     10,   Func. Count:     95,   Neg. LLF: 12.879743432459026\n",
      "Iteration:     11,   Func. Count:    103,   Neg. LLF: 12.86852798379143\n",
      "Iteration:     12,   Func. Count:    111,   Neg. LLF: 12.862927361122772\n",
      "Iteration:     13,   Func. Count:    119,   Neg. LLF: 12.85593799760944\n",
      "Iteration:     14,   Func. Count:    127,   Neg. LLF: 12.853981694254445\n",
      "Iteration:     15,   Func. Count:    135,   Neg. LLF: 12.853651068444359\n",
      "Iteration:     16,   Func. Count:    143,   Neg. LLF: 12.853607554047345\n",
      "Iteration:     17,   Func. Count:    151,   Neg. LLF: 12.853599256932164\n",
      "Iteration:     18,   Func. Count:    159,   Neg. LLF: 12.853594217981627\n",
      "Iteration:     19,   Func. Count:    167,   Neg. LLF: 12.853592687739889\n",
      "Iteration:     20,   Func. Count:    174,   Neg. LLF: 12.853592705703932\n",
      "Optimization terminated successfully    (Exit mode 0)\n",
      "            Current function value: 12.853592687739889\n",
      "            Iterations: 20\n",
      "            Function evaluations: 174\n",
      "            Gradient evaluations: 20\n",
      "                           AR - GARCH Model Results                           \n",
      "==============================================================================\n",
      "Dep. Variable:                 ln_gdp   R-squared:                       0.342\n",
      "Mean Model:                        AR   Adj. R-squared:                  0.288\n",
      "Vol Model:                      GARCH   Log-Likelihood:               -12.8536\n",
      "Distribution:                  Normal   AIC:                           39.7072\n",
      "Method:            Maximum Likelihood   BIC:                           48.7780\n",
      "                                        No. Observations:                   27\n",
      "Date:                Thu, Nov 24 2022   Df Residuals:                       24\n",
      "Time:                        23:48:13   Df Model:                            3\n",
      "                                Mean Model                                \n",
      "==========================================================================\n",
      "                 coef    std err          t      P>|t|    95.0% Conf. Int.\n",
      "--------------------------------------------------------------------------\n",
      "Const          2.2369      0.987      2.266  2.343e-02   [  0.302,  4.171]\n",
      "ln_gdp[1]      0.3413      0.130      2.632  8.488e-03 [8.715e-02,  0.595]\n",
      "ln_gdp[2]      0.4358      0.175      2.496  1.255e-02 [9.362e-02,  0.778]\n",
      "                              Volatility Model                             \n",
      "===========================================================================\n",
      "                 coef    std err          t      P>|t|     95.0% Conf. Int.\n",
      "---------------------------------------------------------------------------\n",
      "omega          0.0720  5.508e-02      1.308      0.191 [-3.590e-02,  0.180]\n",
      "alpha[1]       0.0141      0.118      0.119      0.905    [ -0.217,  0.245]\n",
      "alpha[2]       0.7751      0.618      1.255      0.209    [ -0.435,  1.986]\n",
      "beta[1]    2.0454e-15      0.429  4.767e-15      1.000    [ -0.841,  0.841]\n",
      "===========================================================================\n",
      "\n",
      "Covariance estimator: robust\n"
     ]
    }
   ],
   "source": [
    "model = arch_model(y, mean='AR',lags=2, vol='GARCH', p=2, q=1)\n",
    "model_fit = model.fit()\n",
    "print(model_fit.summary())"
   ]
  },
  {
   "cell_type": "code",
   "execution_count": 6,
   "metadata": {},
   "outputs": [
    {
     "data": {
      "text/plain": [
       "array([9.24769283, 9.40349028, 9.47620009, 9.5689074 , 9.63223387,\n",
       "       9.69424632, 9.74300727, 9.78667269, 9.82282446, 9.85419126])"
      ]
     },
     "execution_count": 6,
     "metadata": {},
     "output_type": "execute_result"
    }
   ],
   "source": [
    "model_fit_forecast = model_fit.forecast(horizon=m)\n",
    "forecasted_values = model_fit_forecast.mean.values[-1, :]\n",
    "forecasted_values"
   ]
  }
 ],
 "metadata": {
  "kernelspec": {
   "display_name": "Python 3",
   "language": "python",
   "name": "python3"
  },
  "language_info": {
   "codemirror_mode": {
    "name": "ipython",
    "version": 3
   },
   "file_extension": ".py",
   "mimetype": "text/x-python",
   "name": "python",
   "nbconvert_exporter": "python",
   "pygments_lexer": "ipython3",
   "version": "3.8.5"
  }
 },
 "nbformat": 4,
 "nbformat_minor": 2
}
