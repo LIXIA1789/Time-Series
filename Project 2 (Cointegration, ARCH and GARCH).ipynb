{
 "cells": [
  {
   "cell_type": "markdown",
   "metadata": {},
   "source": [
    "# Project 2 (Cointegration, ARCH and GARCH)\n",
    "## Name: Lixia"
   ]
  },
  {
   "cell_type": "markdown",
   "metadata": {},
   "source": [
    "# Question 1  "
   ]
  },
  {
   "cell_type": "markdown",
   "metadata": {},
   "source": [
    "In this question, we use the Engle-Granger approach to test cointegration."
   ]
  },
  {
   "cell_type": "markdown",
   "metadata": {},
   "source": [
    "(a) Load spot and futures prices from data1.csv. Define $s_t = log(spot_t)$ and $f_t = log(futures_t)$. Test whether $s_{t}$ and $f_{t}$ have unit roots using Augmented Dicky-Fuller Test at the $5\\%$ significance level. \n",
    "\n",
    "(b) Run the following linear regression: $$s_{t}= \\gamma_{0}+\\gamma_{1}f_{t}+z_{t}$$ \n",
    "\n",
    "where $z_t$ is the error term. What are estimated values of $\\gamma_{0}$ and $\\gamma_{1}$?"
   ]
  },
  {
   "cell_type": "markdown",
   "metadata": {},
   "source": [
    "(c) Get residuals $\\hat z_{t}$. Plot $\\hat z_{t}$."
   ]
  },
  {
   "cell_type": "markdown",
   "metadata": {},
   "source": [
    "(d) Test whether $\\hat z_{t}$ has unit roots or not using Augmented Dicky-Fuller Test at the $5\\%$ significance level."
   ]
  },
  {
   "cell_type": "markdown",
   "metadata": {},
   "source": [
    "(e) Based on (d), Are $s_t$ and $f_t$ cointegrated?"
   ]
  },
  {
   "cell_type": "markdown",
   "metadata": {},
   "source": [
    "(f) Run the following linear regression: $$\\Delta s_{t} = \\beta_{0}+\\beta_{1}\\Delta f_{t}+\\alpha \\hat z_{t-1}+v_{t}$$\n",
    "\n",
    "where $v_{t}$ is the error term.\n",
    "What is the estimated value of $\\alpha$? Is it significant? What is the meaning?  "
   ]
  },
  {
   "cell_type": "code",
   "execution_count": 4,
   "metadata": {},
   "outputs": [],
   "source": [
    "# load the libraries\n",
    "\n",
    "import numpy as np\n",
    "import pandas as pd\n",
    "import matplotlib.pyplot as plt\n",
    "import statsmodels.tsa.api as smt\n",
    "import statsmodels.api as sm\n",
    "import warnings\n",
    "warnings.filterwarnings('ignore')\n",
    "warnings.simplefilter('ignore')\n",
    "\n",
    "from statsmodels.graphics.tsaplots import plot_acf, plot_pacf \n",
    "from statsmodels.tsa.stattools import acf, pacf, adfuller\n",
    "from statsmodels.tsa.arima_model import ARIMA\n",
    "\n",
    "from arch import arch_model\n",
    "from sklearn.metrics import mean_squared_error"
   ]
  },
  {
   "cell_type": "markdown",
   "metadata": {},
   "source": [
    "## Solutions"
   ]
  },
  {
   "cell_type": "markdown",
   "metadata": {},
   "source": [
    "(a)"
   ]
  },
  {
   "cell_type": "code",
   "execution_count": 5,
   "metadata": {},
   "outputs": [],
   "source": [
    "df = pd.read_csv('data1.csv', parse_dates=['date'], index_col='date')  \n",
    "n = len(df)                  \n",
    "spot = df['spot']\n",
    "s = np.log(spot)  \n",
    "futures = df['futures']\n",
    "f = np.log(futures)    "
   ]
  },
  {
   "cell_type": "code",
   "execution_count": 6,
   "metadata": {},
   "outputs": [
    {
     "name": "stdout",
     "output_type": "stream",
     "text": [
      "ADF Statistic: -0.310632\n",
      "p-value: 0.923985\n",
      "Critical Values:\n",
      "\t1%: -3.542\n",
      "\t5%: -2.910\n",
      "\t10%: -2.593\n"
     ]
    }
   ],
   "source": [
    "result_spot = adfuller(s)    \n",
    "print('ADF Statistic: %f' % result_spot[0])\n",
    "print('p-value: %f' % result_spot[1])\n",
    "print('Critical Values:')\n",
    "for key, value in result_spot[4].items():\n",
    "    print('\\t%s: %.3f' % (key,value))"
   ]
  },
  {
   "cell_type": "code",
   "execution_count": 7,
   "metadata": {},
   "outputs": [
    {
     "name": "stdout",
     "output_type": "stream",
     "text": [
      "ADF Statistic: 0.188654\n",
      "p-value: 0.971618\n",
      "Critical Values:\n",
      "\t1%: -3.535\n",
      "\t5%: -2.907\n",
      "\t10%: -2.591\n"
     ]
    }
   ],
   "source": [
    "result_futures = adfuller(f)\n",
    "print('ADF Statistic: %f' % result_futures[0])\n",
    "print('p-value: %f' % result_futures[1])\n",
    "print('Critical Values:')\n",
    "for key, value in result_futures[4].items():\n",
    "    print('\\t%s: %.3f' % (key,value))"
   ]
  },
  {
   "cell_type": "markdown",
   "metadata": {},
   "source": [
    "The two variables are not stationary.They have unit roots."
   ]
  },
  {
   "cell_type": "markdown",
   "metadata": {},
   "source": [
    "(b)"
   ]
  },
  {
   "cell_type": "code",
   "execution_count": 8,
   "metadata": {},
   "outputs": [
    {
     "name": "stdout",
     "output_type": "stream",
     "text": [
      "                            OLS Regression Results                            \n",
      "==============================================================================\n",
      "Dep. Variable:                   spot   R-squared:                       0.959\n",
      "Model:                            OLS   Adj. R-squared:                  0.959\n",
      "Method:                 Least Squares   F-statistic:                     1503.\n",
      "Date:                Thu, 24 Nov 2022   Prob (F-statistic):           3.64e-46\n",
      "Time:                        16:15:46   Log-Likelihood:                 134.70\n",
      "No. Observations:                  66   AIC:                            -265.4\n",
      "Df Residuals:                      64   BIC:                            -261.0\n",
      "Df Model:                           1                                         \n",
      "Covariance Type:            nonrobust                                         \n",
      "==============================================================================\n",
      "                 coef    std err          t      P>|t|      [0.025      0.975]\n",
      "------------------------------------------------------------------------------\n",
      "const          0.1144      0.179      0.640      0.524      -0.243       0.472\n",
      "futures        0.9838      0.025     38.769      0.000       0.933       1.035\n",
      "==============================================================================\n",
      "Omnibus:                       12.298   Durbin-Watson:                   2.013\n",
      "Prob(Omnibus):                  0.002   Jarque-Bera (JB):               13.367\n",
      "Skew:                          -0.883   Prob(JB):                      0.00125\n",
      "Kurtosis:                       4.320   Cond. No.                         327.\n",
      "==============================================================================\n",
      "\n",
      "Notes:\n",
      "[1] Standard Errors assume that the covariance matrix of the errors is correctly specified.\n"
     ]
    }
   ],
   "source": [
    "X = f  \n",
    "X = sm.add_constant(X) \n",
    "Y = s         \n",
    "X = X[0:n]    \n",
    "Y = Y[0:n]   \n",
    "\n",
    "\n",
    "model = sm.OLS(Y, X)\n",
    "results = model.fit()\n",
    "print(results.summary())"
   ]
  },
  {
   "cell_type": "markdown",
   "metadata": {},
   "source": [
    "𝛾0 is 0.1144；𝛾1 is 0.9838. "
   ]
  },
  {
   "cell_type": "markdown",
   "metadata": {},
   "source": [
    "(c)"
   ]
  },
  {
   "cell_type": "code",
   "execution_count": 9,
   "metadata": {
    "scrolled": true
   },
   "outputs": [
    {
     "data": {
      "image/png": "[encoded data removed]",
      "text/plain": [
       "<Figure size 864x288 with 1 Axes>"
      ]
     },
     "metadata": {
      "needs_background": "light"
     },
     "output_type": "display_data"
    }
   ],
   "source": [
    "z = results.resid \n",
    "plt.figure(figsize=(12,4))\n",
    "plt.title(\"Residuals\")\n",
    "plt.plot(z)\n",
    "plt.grid(True)\n",
    "plt.show()"
   ]
  },
  {
   "cell_type": "markdown",
   "metadata": {},
   "source": [
    "(d)"
   ]
  },
  {
   "cell_type": "code",
   "execution_count": 10,
   "metadata": {},
   "outputs": [
    {
     "name": "stdout",
     "output_type": "stream",
     "text": [
      "ADF Statistic: -4.514650\n",
      "p-value: 0.000185\n",
      "Critical Values:\n",
      "\t1%: -3.555\n",
      "\t5%: -2.916\n",
      "\t10%: -2.596\n"
     ]
    }
   ],
   "source": [
    "result_z = adfuller(z)    \n",
    "print('ADF Statistic: %f' % result_z[0])\n",
    "print('p-value: %f' % result_z[1])\n",
    "print('Critical Values:')\n",
    "for key, value in result_z[4].items():\n",
    "    print('\\t%s: %.3f' % (key,value))"
   ]
  },
  {
   "cell_type": "markdown",
   "metadata": {},
   "source": [
    "The z is stationary. It doesn't have a unit root."
   ]
  },
  {
   "cell_type": "markdown",
   "metadata": {},
   "source": [
    "(e)"
   ]
  },
  {
   "cell_type": "markdown",
   "metadata": {},
   "source": [
    "$s_t$ and $f_t$ cointegrated."
   ]
  },
  {
   "cell_type": "markdown",
   "metadata": {},
   "source": [
    "(f)"
   ]
  },
  {
   "cell_type": "code",
   "execution_count": 11,
   "metadata": {},
   "outputs": [],
   "source": [
    "s_diff = s.diff(1)  \n",
    "f_diff = f.diff(1)"
   ]
  },
  {
   "cell_type": "code",
   "execution_count": 12,
   "metadata": {},
   "outputs": [
    {
     "name": "stdout",
     "output_type": "stream",
     "text": [
      "                            OLS Regression Results                            \n",
      "==============================================================================\n",
      "Dep. Variable:                   spot   R-squared:                       0.241\n",
      "Model:                            OLS   Adj. R-squared:                  0.216\n",
      "Method:                 Least Squares   F-statistic:                     9.831\n",
      "Date:                Thu, 24 Nov 2022   Prob (F-statistic):           0.000196\n",
      "Time:                        16:15:48   Log-Likelihood:                 134.34\n",
      "No. Observations:                  65   AIC:                            -262.7\n",
      "Df Residuals:                      62   BIC:                            -256.2\n",
      "Df Model:                           2                                         \n",
      "Covariance Type:            nonrobust                                         \n",
      "==============================================================================\n",
      "                 coef    std err          t      P>|t|      [0.025      0.975]\n",
      "------------------------------------------------------------------------------\n",
      "const         -0.0027      0.004     -0.638      0.526      -0.011       0.006\n",
      "futures        1.7503      0.396      4.425      0.000       0.960       2.541\n",
      "0             -1.8004      0.418     -4.309      0.000      -2.636      -0.965\n",
      "==============================================================================\n",
      "Omnibus:                        8.051   Durbin-Watson:                   2.016\n",
      "Prob(Omnibus):                  0.018   Jarque-Bera (JB):                7.390\n",
      "Skew:                          -0.720   Prob(JB):                       0.0248\n",
      "Kurtosis:                       3.811   Cond. No.                         146.\n",
      "==============================================================================\n",
      "\n",
      "Notes:\n",
      "[1] Standard Errors assume that the covariance matrix of the errors is correctly specified.\n"
     ]
    }
   ],
   "source": [
    "lag_z = z.shift(1)  \n",
    "X = pd.concat([f_diff, lag_z], axis=1) \n",
    "\n",
    "X = sm.add_constant(X) \n",
    "Y = s_diff         \n",
    "X = X[1:n]    \n",
    "Y = Y[1:n]   \n",
    "\n",
    "model = sm.OLS(Y, X)\n",
    "results = model.fit()\n",
    "print(results.summary())"
   ]
  },
  {
   "cell_type": "markdown",
   "metadata": {},
   "source": [
    "𝛼 is -1.8004. It is significant since p < 0.05.The error of the original model is large. We need to use the error correction model. "
   ]
  },
  {
   "cell_type": "markdown",
   "metadata": {},
   "source": [
    "# Question 2 "
   ]
  },
  {
   "cell_type": "markdown",
   "metadata": {},
   "source": [
    "We use the following three different models in this question.\n",
    "\n",
    "Model A: ARMA(2,2)  \n",
    "\n",
    "Model B: AR(2)-ARCH(2)   \n",
    "\n",
    "Model C: AR(1)-GARCH(1,1)  \n",
    "    "
   ]
  },
  {
   "cell_type": "markdown",
   "metadata": {},
   "source": [
    "(a) Load the time series saved in 'qt.csv' file.  Plot qt. "
   ]
  },
  {
   "cell_type": "markdown",
   "metadata": {},
   "source": [
    "(b) Separate the data set into two parts: training data are from 1-390 and testing data are from 391-400. Create a variable \"qt_train\" for training data and another variable \"qt_test\" for testing data. "
   ]
  },
  {
   "cell_type": "markdown",
   "metadata": {},
   "source": [
    "(c) For each model, estimate the model with training data and forecast the last ten observations of qt. "
   ]
  },
  {
   "cell_type": "markdown",
   "metadata": {},
   "source": [
    "(d) For each model, compute the mean squared error (MSE) for the forecasted qt. "
   ]
  },
  {
   "cell_type": "markdown",
   "metadata": {},
   "source": [
    "(e) Which model has the lowest MSE? Explain your findings."
   ]
  },
  {
   "cell_type": "markdown",
   "metadata": {},
   "source": [
    "(a)"
   ]
  },
  {
   "cell_type": "code",
   "execution_count": 13,
   "metadata": {},
   "outputs": [],
   "source": [
    "# load the libraries\n",
    "\n",
    "import numpy as np\n",
    "import pandas as pd\n",
    "import matplotlib.pyplot as plt\n",
    "import statsmodels.tsa.api as smt\n",
    "import statsmodels.api as sm\n",
    "\n",
    "from arch import arch_model"
   ]
  },
  {
   "cell_type": "code",
   "execution_count": 14,
   "metadata": {},
   "outputs": [],
   "source": [
    "df = pd.read_csv('qt.csv',header=None)\n",
    "n = len(df)\n",
    "qt=df"
   ]
  },
  {
   "cell_type": "markdown",
   "metadata": {},
   "source": [
    "(b)"
   ]
  },
  {
   "cell_type": "code",
   "execution_count": 15,
   "metadata": {},
   "outputs": [],
   "source": [
    "qt_train=qt[0:390]\n",
    "qt_test=qt[390:400]"
   ]
  },
  {
   "cell_type": "markdown",
   "metadata": {},
   "source": [
    "(c)"
   ]
  },
  {
   "cell_type": "code",
   "execution_count": 16,
   "metadata": {},
   "outputs": [
    {
     "name": "stdout",
     "output_type": "stream",
     "text": [
      "                              ARMA Model Results                              \n",
      "==============================================================================\n",
      "Dep. Variable:                      0   No. Observations:                  390\n",
      "Model:                     ARMA(2, 2)   Log Likelihood                -806.593\n",
      "Method:                           css   S.D. of innovations              1.935\n",
      "Date:                Thu, 24 Nov 2022   AIC                           1625.186\n",
      "Time:                        16:15:48   BIC                           1648.952\n",
      "Sample:                             2   HQIC                          1634.609\n",
      "                                                                              \n",
      "==============================================================================\n",
      "                 coef    std err          z      P>|z|      [0.025      0.975]\n",
      "------------------------------------------------------------------------------\n",
      "const         -1.0322      0.300     -3.445      0.001      -1.619      -0.445\n",
      "ar.L1.0        1.0531      0.211      4.992      0.000       0.640       1.467\n",
      "ar.L2.0       -0.4028      0.136     -2.969      0.003      -0.669      -0.137\n",
      "ma.L1.0        0.0106      0.215      0.049      0.961      -0.412       0.433\n",
      "ma.L2.0        0.0565      0.115      0.492      0.622      -0.169       0.282\n",
      "                                    Roots                                    \n",
      "=============================================================================\n",
      "                  Real          Imaginary           Modulus         Frequency\n",
      "-----------------------------------------------------------------------------\n",
      "AR.1            1.3073           -0.8796j            1.5757           -0.0943\n",
      "AR.2            1.3073           +0.8796j            1.5757            0.0943\n",
      "MA.1           -0.0933           -4.2043j            4.2054           -0.2535\n",
      "MA.2           -0.0933           +4.2043j            4.2054            0.2535\n",
      "-----------------------------------------------------------------------------\n"
     ]
    }
   ],
   "source": [
    "p =2\n",
    "model = ARIMA(qt_train, order=(p,0,2))\n",
    "model_fit = model.fit(method='css')\n",
    "print(model_fit.summary())"
   ]
  },
  {
   "cell_type": "code",
   "execution_count": 17,
   "metadata": {},
   "outputs": [
    {
     "data": {
      "text/plain": [
       "390   -1.482496\n",
       "391   -1.128747\n",
       "392   -0.952497\n",
       "393   -0.909367\n",
       "394   -0.934936\n",
       "395   -0.979234\n",
       "396   -1.015587\n",
       "397   -1.036027\n",
       "398   -1.042912\n",
       "399   -1.041929\n",
       "dtype: float64"
      ]
     },
     "execution_count": 17,
     "metadata": {},
     "output_type": "execute_result"
    }
   ],
   "source": [
    "m=10\n",
    "qt1_forecasted = model_fit.predict(start=390, end=399)\n",
    "qt1_forecasted"
   ]
  },
  {
   "cell_type": "code",
   "execution_count": 18,
   "metadata": {},
   "outputs": [
    {
     "name": "stdout",
     "output_type": "stream",
     "text": [
      "Iteration:      1,   Func. Count:      8,   Neg. LLF: 4166.036097279589\n",
      "Iteration:      2,   Func. Count:     18,   Neg. LLF: 16743.387410210555\n",
      "Iteration:      3,   Func. Count:     28,   Neg. LLF: 1770.1926142348295\n",
      "Iteration:      4,   Func. Count:     37,   Neg. LLF: 799.7364295495416\n",
      "Iteration:      5,   Func. Count:     45,   Neg. LLF: 2185.3581015088066\n",
      "Iteration:      6,   Func. Count:     53,   Neg. LLF: 249937.6972678994\n",
      "Iteration:      7,   Func. Count:     61,   Neg. LLF: 1976.351281315782\n",
      "Iteration:      8,   Func. Count:     69,   Neg. LLF: 920.1705530618996\n",
      "Iteration:      9,   Func. Count:     77,   Neg. LLF: 728.6773832775066\n",
      "Iteration:     10,   Func. Count:     85,   Neg. LLF: 727.5758751324136\n",
      "Iteration:     11,   Func. Count:     92,   Neg. LLF: 727.5384719052489\n",
      "Iteration:     12,   Func. Count:     99,   Neg. LLF: 727.5339950222201\n",
      "Iteration:     13,   Func. Count:    106,   Neg. LLF: 727.5324949410303\n",
      "Iteration:     14,   Func. Count:    113,   Neg. LLF: 727.5322817205158\n",
      "Iteration:     15,   Func. Count:    120,   Neg. LLF: 727.5322711633069\n",
      "Iteration:     16,   Func. Count:    126,   Neg. LLF: 727.5322711632928\n",
      "Optimization terminated successfully    (Exit mode 0)\n",
      "            Current function value: 727.5322711633069\n",
      "            Iterations: 16\n",
      "            Function evaluations: 126\n",
      "            Gradient evaluations: 16\n",
      "                           AR - ARCH Model Results                            \n",
      "==============================================================================\n",
      "Dep. Variable:                      0   R-squared:                       0.647\n",
      "Mean Model:                        AR   Adj. R-squared:                  0.645\n",
      "Vol Model:                       ARCH   Log-Likelihood:               -727.532\n",
      "Distribution:                  Normal   AIC:                           1467.06\n",
      "Method:            Maximum Likelihood   BIC:                           1490.83\n",
      "                                        No. Observations:                  388\n",
      "Date:                Thu, Nov 24 2022   Df Residuals:                      385\n",
      "Time:                        16:15:48   Df Model:                            3\n",
      "                                Mean Model                                \n",
      "==========================================================================\n",
      "                 coef    std err          t      P>|t|    95.0% Conf. Int.\n",
      "--------------------------------------------------------------------------\n",
      "Const         -0.1105  6.675e-02     -1.655  9.783e-02 [ -0.241,2.032e-02]\n",
      "0[1]           0.9898  5.438e-02     18.200  5.120e-74   [  0.883,  1.096]\n",
      "0[2]          -0.2911  5.547e-02     -5.248  1.541e-07   [ -0.400, -0.182]\n",
      "                             Volatility Model                             \n",
      "==========================================================================\n",
      "                 coef    std err          t      P>|t|    95.0% Conf. Int.\n",
      "--------------------------------------------------------------------------\n",
      "omega          1.0348      0.133      7.805  5.956e-15   [  0.775,  1.295]\n",
      "alpha[1]       0.5342      0.100      5.337  9.466e-08   [  0.338,  0.730]\n",
      "alpha[2]       0.1951  6.921e-02      2.818  4.830e-03 [5.940e-02,  0.331]\n",
      "==========================================================================\n",
      "\n",
      "Covariance estimator: robust\n"
     ]
    }
   ],
   "source": [
    "model = arch_model(qt_train, mean='AR',lags=2, vol='GARCH', p=2, q=0)\n",
    "model_fit = model.fit()\n",
    "print(model_fit.summary())"
   ]
  },
  {
   "cell_type": "code",
   "execution_count": 19,
   "metadata": {},
   "outputs": [
    {
     "data": {
      "text/plain": [
       "array([-1.41768129, -0.91698532, -0.6054575 , -0.44285299, -0.37258801,\n",
       "       -0.35037116, -0.34883374, -0.35377882, -0.35912088, -0.36296898])"
      ]
     },
     "execution_count": 19,
     "metadata": {},
     "output_type": "execute_result"
    }
   ],
   "source": [
    "model_fit_forecast = model_fit.forecast(horizon=m)\n",
    "forecasted2_values = model_fit_forecast.mean.values[-1, :]\n",
    "forecasted2_values"
   ]
  },
  {
   "cell_type": "code",
   "execution_count": 20,
   "metadata": {},
   "outputs": [
    {
     "name": "stdout",
     "output_type": "stream",
     "text": [
      "Iteration:      1,   Func. Count:      7,   Neg. LLF: 180826917423.46375\n",
      "Iteration:      2,   Func. Count:     16,   Neg. LLF: 16753495519.94239\n",
      "Iteration:      3,   Func. Count:     24,   Neg. LLF: 257991411.91798487\n",
      "Iteration:      4,   Func. Count:     31,   Neg. LLF: 1070.9327971758994\n",
      "Iteration:      5,   Func. Count:     38,   Neg. LLF: 787.1006090981979\n",
      "Iteration:      6,   Func. Count:     46,   Neg. LLF: 762.1284819635171\n",
      "Iteration:      7,   Func. Count:     53,   Neg. LLF: 758.3133063348622\n",
      "Iteration:      8,   Func. Count:     60,   Neg. LLF: 745.5038684059059\n",
      "Iteration:      9,   Func. Count:     66,   Neg. LLF: 744.7519733241363\n",
      "Iteration:     10,   Func. Count:     72,   Neg. LLF: 744.4718735796484\n",
      "Iteration:     11,   Func. Count:     78,   Neg. LLF: 744.3152885878658\n",
      "Iteration:     12,   Func. Count:     84,   Neg. LLF: 744.3083252238761\n",
      "Iteration:     13,   Func. Count:     90,   Neg. LLF: 744.3082042147784\n",
      "Iteration:     14,   Func. Count:     96,   Neg. LLF: 744.3082033185362\n",
      "Optimization terminated successfully    (Exit mode 0)\n",
      "            Current function value: 744.3082033185362\n",
      "            Iterations: 14\n",
      "            Function evaluations: 96\n",
      "            Gradient evaluations: 14\n",
      "                           AR - GARCH Model Results                           \n",
      "==============================================================================\n",
      "Dep. Variable:                      0   R-squared:                       0.586\n",
      "Mean Model:                        AR   Adj. R-squared:                  0.585\n",
      "Vol Model:                      GARCH   Log-Likelihood:               -744.308\n",
      "Distribution:                  Normal   AIC:                           1498.62\n",
      "Method:            Maximum Likelihood   BIC:                           1518.43\n",
      "                                        No. Observations:                  389\n",
      "Date:                Thu, Nov 24 2022   Df Residuals:                      387\n",
      "Time:                        16:15:48   Df Model:                            2\n",
      "                                Mean Model                                \n",
      "==========================================================================\n",
      "                 coef    std err          t      P>|t|    95.0% Conf. Int.\n",
      "--------------------------------------------------------------------------\n",
      "Const         -0.0547  7.078e-02     -0.773      0.440 [ -0.193,8.402e-02]\n",
      "0[1]           0.7504  3.126e-02     24.004 2.529e-127   [  0.689,  0.812]\n",
      "                            Volatility Model                            \n",
      "========================================================================\n",
      "                 coef    std err          t      P>|t|  95.0% Conf. Int.\n",
      "------------------------------------------------------------------------\n",
      "omega          0.7797      0.143      5.433  5.531e-08 [  0.498,  1.061]\n",
      "alpha[1]       0.5908  9.475e-02      6.236  4.494e-10 [  0.405,  0.777]\n",
      "beta[1]        0.2429  6.322e-02      3.841  1.223e-04 [  0.119,  0.367]\n",
      "========================================================================\n",
      "\n",
      "Covariance estimator: robust\n"
     ]
    }
   ],
   "source": [
    "model = arch_model(qt_train, mean='AR',lags=1, vol='GARCH', p=1, q=1)\n",
    "model_fit = model.fit()\n",
    "print(model_fit.summary())"
   ]
  },
  {
   "cell_type": "code",
   "execution_count": 21,
   "metadata": {},
   "outputs": [
    {
     "data": {
      "text/plain": [
       "array([-1.59305301, -1.25015412, -0.99283838, -0.79974534, -0.65484585,\n",
       "       -0.5461114 , -0.46451568, -0.4032852 , -0.35733706, -0.32285699])"
      ]
     },
     "execution_count": 21,
     "metadata": {},
     "output_type": "execute_result"
    }
   ],
   "source": [
    "model_fit_forecast = model_fit.forecast(horizon=m)\n",
    "forecasted3_values = model_fit_forecast.mean.values[-1, :]\n",
    "forecasted3_values"
   ]
  },
  {
   "cell_type": "markdown",
   "metadata": {},
   "source": [
    "(d)"
   ]
  },
  {
   "cell_type": "code",
   "execution_count": 22,
   "metadata": {},
   "outputs": [
    {
     "data": {
      "text/plain": [
       "16.940766303185292"
      ]
     },
     "execution_count": 22,
     "metadata": {},
     "output_type": "execute_result"
    }
   ],
   "source": [
    "from sklearn.metrics import mean_squared_error\n",
    " \n",
    "MSE = mean_squared_error(qt_test,qt1_forecasted)\n",
    "#MSE = np.square(np.subtract(_test,xt_forecasted)).mean()\n",
    "MSE"
   ]
  },
  {
   "cell_type": "code",
   "execution_count": 23,
   "metadata": {},
   "outputs": [
    {
     "data": {
      "text/plain": [
       "12.977195287921427"
      ]
     },
     "execution_count": 23,
     "metadata": {},
     "output_type": "execute_result"
    }
   ],
   "source": [
    "from sklearn.metrics import mean_squared_error\n",
    " \n",
    "MSE = mean_squared_error(qt_test,forecasted2_values)\n",
    "#MSE = np.square(np.subtract(xt_test,xt_forecasted)).mean()\n",
    "MSE"
   ]
  },
  {
   "cell_type": "code",
   "execution_count": 24,
   "metadata": {},
   "outputs": [
    {
     "data": {
      "text/plain": [
       "14.025797723108871"
      ]
     },
     "execution_count": 24,
     "metadata": {},
     "output_type": "execute_result"
    }
   ],
   "source": [
    "from sklearn.metrics import mean_squared_error\n",
    " \n",
    "MSE = mean_squared_error(qt_test,forecasted3_values)\n",
    "#MSE = np.square(np.subtract(xt_test,xt_forecasted)).mean()\n",
    "MSE"
   ]
  },
  {
   "cell_type": "markdown",
   "metadata": {},
   "source": [
    "(e)"
   ]
  },
  {
   "cell_type": "markdown",
   "metadata": {},
   "source": [
    "AR(2)-ARCH(2) has the lowest MSE.The qt data has heteroscedasticity and arch effect."
   ]
  }
 ],
 "metadata": {
  "kernelspec": {
   "display_name": "Python 3",
   "language": "python",
   "name": "python3"
  },
  "language_info": {
   "codemirror_mode": {
    "name": "ipython",
    "version": 3
   },
   "file_extension": ".py",
   "mimetype": "text/x-python",
   "name": "python",
   "nbconvert_exporter": "python",
   "pygments_lexer": "ipython3",
   "version": "3.8.5"
  }
 },
 "nbformat": 4,
 "nbformat_minor": 2
}
