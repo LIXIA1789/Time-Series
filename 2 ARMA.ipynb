{
 "cells": [
  {
   "cell_type": "markdown",
   "metadata": {},
   "source": [
    "# Time Series on Financial Applications  \n",
    "### Section 2: ARMA"
   ]
  },
  {
   "cell_type": "markdown",
   "metadata": {},
   "source": [
    "# Problem 1\n",
    "We will study analytical properties of AR(1) process using Python. Please consider the following AR(1) time series   \n",
    "\n",
    "$$(1-\\phi L)x_t=u_t,$$   \n",
    "where  $u_t$ is Gaussian White Noise with $Var(u_t)=1$. Here, $L$ denotes the lag operator.\n",
    "\n",
    "(a) For $\\phi=0.5$, use ArmaProcess() method of statsmodels.tsa to create an object that corresponds to AR(1) process. Compute the ACF for lags between 0 and 40. Plot the ACF."
   ]
  },
  {
   "cell_type": "code",
   "execution_count": 25,
   "metadata": {},
   "outputs": [],
   "source": [
    "# load the libraries\n",
    "\n",
    "import numpy as np\n",
    "import pandas as pd\n",
    "import matplotlib.pyplot as plt\n",
    "import statsmodels.tsa.api as smt\n",
    "import warnings\n",
    "warnings.filterwarnings('ignore')\n",
    "warnings.simplefilter('ignore')\n",
    "\n",
    "from statsmodels.graphics.tsaplots import plot_acf, plot_pacf \n",
    "from statsmodels.tsa.stattools import acf, pacf\n",
    "from statsmodels.tsa.arima_model import ARIMA"
   ]
  },
  {
   "cell_type": "code",
   "execution_count": 26,
   "metadata": {},
   "outputs": [
    {
     "name": "stdout",
     "output_type": "stream",
     "text": [
      "coefficients of the autoregressive operator: [ 1.  -0.5]\n",
      "coefficients of the moving average operator: [1. 0.]\n"
     ]
    }
   ],
   "source": [
    "# AR(1) with phi = 0.5\n",
    "\n",
    "phi = np.array([0.5])\n",
    "theta = np.array([0.])\n",
    "\n",
    "ar = np.r_[1, -phi]\n",
    "ma = np.r_[1, theta]\n",
    "sigma = 1\n",
    "print(\"coefficients of the autoregressive operator:\", ar)\n",
    "print(\"coefficients of the moving average operator:\", ma)\n",
    "\n",
    "arma_process = smt.ArmaProcess(ar, ma)"
   ]
  },
  {
   "cell_type": "code",
   "execution_count": 27,
   "metadata": {},
   "outputs": [
    {
     "name": "stdout",
     "output_type": "stream",
     "text": [
      "Theoretical rho(h) of AR(1) with phi=+0.5:\n",
      " [1.00000000e+00 5.00000000e-01 2.50000000e-01 1.25000000e-01\n",
      " 6.25000000e-02 3.12500000e-02 1.56250000e-02 7.81250000e-03\n",
      " 3.90625000e-03 1.95312500e-03 9.76562500e-04 4.88281250e-04\n",
      " 2.44140625e-04 1.22070312e-04 6.10351562e-05 3.05175781e-05\n",
      " 1.52587891e-05 7.62939453e-06 3.81469727e-06 1.90734863e-06\n",
      " 9.53674316e-07 4.76837158e-07 2.38418579e-07 1.19209290e-07\n",
      " 5.96046448e-08 2.98023224e-08 1.49011612e-08 7.45058060e-09\n",
      " 3.72529030e-09 1.86264515e-09 9.31322575e-10 4.65661287e-10\n",
      " 2.32830644e-10 1.16415322e-10 5.82076609e-11 2.91038305e-11\n",
      " 1.45519152e-11 7.27595761e-12 3.63797881e-12 1.81898940e-12]\n"
     ]
    },
    {
     "data": {
      "image/png": "[encoded data removed]",
      "text/plain": [
       "<Figure size 1152x288 with 1 Axes>"
      ]
     },
     "metadata": {
      "needs_background": "light"
     },
     "output_type": "display_data"
    }
   ],
   "source": [
    "h_max = 40\n",
    "rho = arma_process.acf(h_max)\n",
    "print(\"Theoretical rho(h) of AR(1) with phi=+0.5:\\n\",rho)\n",
    "\n",
    "plt.figure(figsize=(16,4))\n",
    "plt.plot(rho,linestyle='None',marker='o')\n",
    "plt.ylim(-0.05, 1.05)\n",
    "plt.axhline(linewidth=1, color='k')\n",
    "plt.xlabel(\"lag\")\n",
    "plt.ylabel(\"Theoretical ACF\")\n",
    "plt.title(\"Theoretical ACF of AR(1) with $\\phi=+0.5$\")\n",
    "plt.grid(True)\n",
    "plt.show()"
   ]
  },
  {
   "cell_type": "markdown",
   "metadata": {},
   "source": [
    "# Problem 2 \n",
    "Please pick causal AR(3) of your choice. Explicitly demonstrate that the process is stationary. Generate the time series $x_t$ of $n=100$ observations. Compute the \"fitted values\" for $t=4,5,\\ldots,n$ and \"forecasts\" of $x_t$ for $t=n+1,n+2,\\ldots,n+m$. "
   ]
  },
  {
   "cell_type": "code",
   "execution_count": 28,
   "metadata": {},
   "outputs": [
    {
     "name": "stdout",
     "output_type": "stream",
     "text": [
      "coefficients of the autoregressive operator: [ 1.  -0.5  0.2 -0.1]\n",
      "coefficients of the moving average operator: [1. 0.]\n"
     ]
    }
   ],
   "source": [
    "# generate n observations of AR(3)\n",
    "phi =   np.array([0.5, -0.2, 0.1])\n",
    "theta = np.array([0.])\n",
    "         \n",
    "ar = np.r_[1, -phi]\n",
    "ma = np.r_[1, theta]\n",
    "\n",
    "\n",
    "print(\"coefficients of the autoregressive operator:\", ar)\n",
    "print(\"coefficients of the moving average operator:\", ma)\n",
    "\n",
    "arma_process = smt.ArmaProcess(ar, ma)\n",
    "\n",
    "\n",
    "np.random.seed(1678)\n",
    "n= 100\n",
    "xt = smt.arma_generate_sample(ar=ar, ma=ma, nsample=n)"
   ]
  },
  {
   "cell_type": "code",
   "execution_count": 29,
   "metadata": {},
   "outputs": [
    {
     "data": {
      "text/plain": [
       "True"
      ]
     },
     "execution_count": 29,
     "metadata": {},
     "output_type": "execute_result"
    }
   ],
   "source": [
    "arma_process.isstationary"
   ]
  },
  {
   "cell_type": "code",
   "execution_count": 30,
   "metadata": {},
   "outputs": [
    {
     "name": "stdout",
     "output_type": "stream",
     "text": [
      "                              ARMA Model Results                              \n",
      "==============================================================================\n",
      "Dep. Variable:                      y   No. Observations:                  100\n",
      "Model:                     ARMA(3, 0)   Log Likelihood                -113.502\n",
      "Method:                           css   S.D. of innovations              0.780\n",
      "Date:                Thu, 24 Nov 2022   AIC                            237.004\n",
      "Time:                        17:05:27   BIC                            249.877\n",
      "Sample:                             3   HQIC                           242.209\n",
      "                                                                              \n",
      "==============================================================================\n",
      "                 coef    std err          z      P>|z|      [0.025      0.975]\n",
      "------------------------------------------------------------------------------\n",
      "const          0.3112      0.090      3.474      0.001       0.136       0.487\n",
      "ar.L1.y        0.4168      0.101      4.112      0.000       0.218       0.615\n",
      "ar.L2.y       -0.2626      0.107     -2.450      0.014      -0.473      -0.053\n",
      "ar.L3.y       -0.0382      0.100     -0.380      0.704      -0.235       0.159\n",
      "                                    Roots                                    \n",
      "=============================================================================\n",
      "                  Real          Imaginary           Modulus         Frequency\n",
      "-----------------------------------------------------------------------------\n",
      "AR.1            0.8210           -1.5491j            1.7532           -0.1724\n",
      "AR.2            0.8210           +1.5491j            1.7532            0.1724\n",
      "AR.3           -8.5148           -0.0000j            8.5148           -0.5000\n",
      "-----------------------------------------------------------------------------\n"
     ]
    }
   ],
   "source": [
    "# estimate parameters of AR(3) based on the sample run xt of n observations\n",
    "p = 3\n",
    "model = ARIMA(xt, order=(p,0,0))\n",
    "model_fit = model.fit(method='css')\n",
    "print(model_fit.summary())"
   ]
  },
  {
   "cell_type": "code",
   "execution_count": 31,
   "metadata": {},
   "outputs": [
    {
     "data": {
      "text/plain": [
       "array([-0.17870931,  0.25798492,  0.4437764 ,  0.39917023,  0.31510209,\n",
       "        0.28468112,  0.29578502,  0.31161399,  0.31645718,  0.31389438])"
      ]
     },
     "execution_count": 31,
     "metadata": {},
     "output_type": "execute_result"
    }
   ],
   "source": [
    "# forecast m steps ahead starting from n+1\n",
    "m=10\n",
    "xt_forecasted = model_fit.predict(start=n+1, end=n+m-1)\n",
    "xt_forecasted"
   ]
  },
  {
   "cell_type": "markdown",
   "metadata": {},
   "source": [
    "# Problem 3 \n",
    "Load the Dow Jones Industrial Average (DJIA) from djia.csv. Use on the percentage change of Close value of the index ('Close' column) in estimation.\n",
    "\n",
    "(a) Estimate MA(2) model.\n",
    "\n",
    "(b) Estimate ARMA(1,1) model."
   ]
  },
  {
   "cell_type": "markdown",
   "metadata": {},
   "source": [
    "(a)"
   ]
  },
  {
   "cell_type": "code",
   "execution_count": 32,
   "metadata": {},
   "outputs": [],
   "source": [
    "df = pd.read_csv('djia.csv', parse_dates=['date'], index_col='date')  # load the data and we call the data as \"df\"\n",
    "close = df[\"Close\"]\n",
    "ln_close = np.log(close)\n",
    "r = ln_close.diff(1)\n",
    "r = r[1:len(r)]"
   ]
  },
  {
   "cell_type": "code",
   "execution_count": 33,
   "metadata": {},
   "outputs": [
    {
     "name": "stdout",
     "output_type": "stream",
     "text": [
      "                              ARMA Model Results                              \n",
      "==============================================================================\n",
      "Dep. Variable:                  Close   No. Observations:                 2517\n",
      "Model:                     ARMA(0, 2)   Log Likelihood                7558.146\n",
      "Method:                           css   S.D. of innovations              0.012\n",
      "Date:                Thu, 24 Nov 2022   AIC                         -15108.293\n",
      "Time:                        17:05:27   BIC                         -15084.969\n",
      "Sample:                             0   HQIC                        -15099.828\n",
      "                                                                              \n",
      "===============================================================================\n",
      "                  coef    std err          z      P>|z|      [0.025      0.975]\n",
      "-------------------------------------------------------------------------------\n",
      "const           0.0002      0.000      0.918      0.359      -0.000       0.001\n",
      "ma.L1.Close    -0.1039      0.020     -5.172      0.000      -0.143      -0.065\n",
      "ma.L2.Close    -0.0528      0.021     -2.533      0.011      -0.094      -0.012\n",
      "                                    Roots                                    \n",
      "=============================================================================\n",
      "                  Real          Imaginary           Modulus         Frequency\n",
      "-----------------------------------------------------------------------------\n",
      "MA.1            3.4784           +0.0000j            3.4784            0.0000\n",
      "MA.2           -5.4480           +0.0000j            5.4480            0.5000\n",
      "-----------------------------------------------------------------------------\n"
     ]
    }
   ],
   "source": [
    "model = ARIMA(r, order=(0,0,2))\n",
    "model_fit = model.fit(method='css')\n",
    "print(model_fit.summary())"
   ]
  },
  {
   "cell_type": "markdown",
   "metadata": {},
   "source": [
    "(b)"
   ]
  },
  {
   "cell_type": "code",
   "execution_count": 34,
   "metadata": {},
   "outputs": [
    {
     "name": "stdout",
     "output_type": "stream",
     "text": [
      "                              ARMA Model Results                              \n",
      "==============================================================================\n",
      "Dep. Variable:                  Close   No. Observations:                 2517\n",
      "Model:                     ARMA(1, 1)   Log Likelihood                7553.352\n",
      "Method:                           css   S.D. of innovations              0.012\n",
      "Date:                Thu, 24 Nov 2022   AIC                         -15098.704\n",
      "Time:                        17:05:27   BIC                         -15075.383\n",
      "Sample:                             1   HQIC                        -15090.240\n",
      "                                                                              \n",
      "===============================================================================\n",
      "                  coef    std err          z      P>|z|      [0.025      0.975]\n",
      "-------------------------------------------------------------------------------\n",
      "const           0.0002      0.000      0.916      0.359      -0.000       0.001\n",
      "ar.L1.Close     0.2919      0.161      1.818      0.069      -0.023       0.607\n",
      "ma.L1.Close    -0.4022      0.154     -2.614      0.009      -0.704      -0.101\n",
      "                                    Roots                                    \n",
      "=============================================================================\n",
      "                  Real          Imaginary           Modulus         Frequency\n",
      "-----------------------------------------------------------------------------\n",
      "AR.1            3.4255           +0.0000j            3.4255            0.0000\n",
      "MA.1            2.4866           +0.0000j            2.4866            0.0000\n",
      "-----------------------------------------------------------------------------\n"
     ]
    }
   ],
   "source": [
    "model = ARIMA(r, order=(1,0,1))\n",
    "model_fit = model.fit(method='css')\n",
    "print(model_fit.summary())"
   ]
  }
 ],
 "metadata": {
  "kernelspec": {
   "display_name": "Python 3",
   "language": "python",
   "name": "python3"
  },
  "language_info": {
   "codemirror_mode": {
    "name": "ipython",
    "version": 3
   },
   "file_extension": ".py",
   "mimetype": "text/x-python",
   "name": "python",
   "nbconvert_exporter": "python",
   "pygments_lexer": "ipython3",
   "version": "3.8.5"
  }
 },
 "nbformat": 4,
 "nbformat_minor": 2
}
